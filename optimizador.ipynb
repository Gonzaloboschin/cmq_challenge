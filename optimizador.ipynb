{
 "cells": [
  {
   "cell_type": "code",
   "execution_count": null,
   "metadata": {},
   "outputs": [
    {
     "ename": "ModuleNotFoundError",
     "evalue": "No module named 'pandas'",
     "output_type": "error",
     "traceback": [
      "\u001b[1;31m---------------------------------------------------------------------------\u001b[0m",
      "\u001b[1;31mModuleNotFoundError\u001b[0m                       Traceback (most recent call last)",
      "Cell \u001b[1;32mIn[3], line 1\u001b[0m\n\u001b[1;32m----> 1\u001b[0m \u001b[38;5;28;01mimport\u001b[39;00m \u001b[38;5;21;01mpandas\u001b[39;00m \u001b[38;5;28;01mas\u001b[39;00m \u001b[38;5;21;01mpd\u001b[39;00m\n",
      "\u001b[1;31mModuleNotFoundError\u001b[0m: No module named 'pandas'"
     ]
    }
   ],
   "source": [
    "import pandas as pd"
   ]
  },
  {
   "cell_type": "code",
   "execution_count": null,
   "metadata": {},
   "outputs": [],
   "source": [
    "# FASE DE EXTRACCION DE DATOS\n",
    "\n",
    "file_path = \"data_ejercicio.xlsx\"\n",
    "excel_data = pd.ExcelFile(file_path)\n",
    "\n",
    "print(excel_data.sheet_names)"
   ]
  },
  {
   "cell_type": "code",
   "execution_count": null,
   "metadata": {},
   "outputs": [],
   "source": [
    " Cargar las pestañas necesarias (ejemplo: \"products\" y \"recommendations\")\n",
    "products_df = excel_data.parse(\"products\")\n",
    "recommendations_df = excel_data.parse(\"recommendations\")\n",
    "customers_last_month_df = excel_data.parse(\"customers_last_month\")"
   ]
  },
  {
   "cell_type": "code",
   "execution_count": null,
   "metadata": {},
   "outputs": [],
   "source": [
    "# Inspección básica de las tablas\n",
    "\n",
    "print(products_df.head())\n",
    "print(recommendations_df.head())\n",
    "customers_last_month_df.head())"
   ]
  },
  {
   "cell_type": "code",
   "execution_count": null,
   "metadata": {},
   "outputs": [],
   "source": [
    "# Verificar valores nulos\n",
    "\n",
    "print(products_df.isnull().sum())\n",
    "print(recommendations_df.isnull().sum())\n",
    "print(customers_last_month_df.isnull().sum())"
   ]
  },
  {
   "cell_type": "code",
   "execution_count": null,
   "metadata": {},
   "outputs": [],
   "source": [
    "# Limpiar datos si es necesario\n",
    "\n",
    "products_df = products_df.dropna()\n",
    "recommendations_df = recommendations_df.dropna()\n",
    "customers_last_month_df = customers_last_month_df.dropna()\n",
    "\n"
   ]
  },
  {
   "cell_type": "code",
   "execution_count": null,
   "metadata": {},
   "outputs": [],
   "source": [
    "# Crear una columna para validar la restricción\n",
    "\n",
    "recommendations_df = recommendations_df.merge(\n",
    "    products_df[['Product_desc', 'buyers_last_month']], \n",
    "    on='Product_desc', \n",
    "    how='left'\n",
    ")"
   ]
  },
  {
   "cell_type": "code",
   "execution_count": null,
   "metadata": {},
   "outputs": [],
   "source": [
    "# Calcular límites\n",
    "\n",
    "recommendations_df['min_limit'] = recommendations_df['buyers_last_month'] * 0.75\n",
    "recommendations_df['max_limit'] = recommendations_df['buyers_last_month'] * 2\n"
   ]
  },
  {
   "cell_type": "code",
   "execution_count": null,
   "metadata": {},
   "outputs": [],
   "source": [
    "# Identificar violaciones\n",
    "\n",
    "recommendations_df['violates'] = recommendations_df['Objetivo Anterior'].apply(\n",
    "    lambda x: \"low\" if x < recommendations_df['min_limit'] else \n",
    "              \"high\" if x > recommendations_df['max_limit'] else \"ok\"\n",
    ")\n",
    "\n",
    "print(recommendations_df['violates'].value_counts())\n"
   ]
  },
  {
   "cell_type": "code",
   "execution_count": null,
   "metadata": {},
   "outputs": [],
   "source": [
    "# Filtrar segmento premium\n",
    "\n",
    "premium_products = products_df[products_df['segment'] == 'Premium']\n"
   ]
  },
  {
   "cell_type": "code",
   "execution_count": null,
   "metadata": {},
   "outputs": [],
   "source": [
    "# Total de recomendaciones premium y generales\n",
    "\n",
    "total_recommendations = recommendations_df['Objetivo Anterior'].sum()\n",
    "premium_recommendations = recommendations_df[recommendations_df['Product_desc'].isin(premium_products['Product_desc'])]['Objetivo Anterior'].sum()\n"
   ]
  },
  {
   "cell_type": "code",
   "execution_count": null,
   "metadata": {},
   "outputs": [],
   "source": [
    "# Validar porcentaje\n",
    "\n",
    "premium_percentage = premium_recommendations / total_recommendations\n",
    "print(f\"Porcentaje actual Premium: {premium_percentage:.2%}\")"
   ]
  },
  {
   "cell_type": "code",
   "execution_count": null,
   "metadata": {},
   "outputs": [],
   "source": [
    "# Ajustar objetivo para Brahma Dorada\n",
    "\n",
    "brahma = recommendations_df[recommendations_df['Product_desc'] == 'Brahma Dorada-1 Lts-Bottle-RET']\n",
    "if brahma['Objetivo Anterior'].iloc[0] < 200:\n",
    "    recommendations_df.loc[recommendations_df['Product_desc'] == 'Brahma Dorada-1 Lts-Bottle-RET', 'Objetivo Anterior'] = 200"
   ]
  },
  {
   "cell_type": "code",
   "execution_count": null,
   "metadata": {},
   "outputs": [],
   "source": [
    "# Total de recomendaciones ajustadas\n",
    "\n",
    "adjusted_total = recommendations_df['Objetivo Anterior'].sum()\n"
   ]
  },
  {
   "cell_type": "code",
   "execution_count": null,
   "metadata": {},
   "outputs": [],
   "source": [
    "# Calculamos el factor de ajuste\n",
    "\n",
    "scaling_factor = total_recommendations / adjusted_total\n"
   ]
  },
  {
   "cell_type": "code",
   "execution_count": null,
   "metadata": {},
   "outputs": [],
   "source": [
    "# Aplicamos el ajuste\n",
    "\n",
    "recommendations_df['Objetivo Nuevo'] = recommendations_df['Objetivo Anterior'] * scaling_factor\n"
   ]
  },
  {
   "cell_type": "code",
   "execution_count": null,
   "metadata": {},
   "outputs": [],
   "source": [
    "# Redondear al entero más cercano\n",
    "\n",
    "recommendations_df['Objetivo Nuevo'] = recommendations_df['Objetivo Nuevo'].round().astype(int)\n"
   ]
  },
  {
   "cell_type": "code",
   "execution_count": null,
   "metadata": {},
   "outputs": [],
   "source": [
    "# Validar nuevo total\n",
    "\n",
    "print(f\"Nuevo total de recomendaciones: {recommendations_df['Objetivo Nuevo'].sum()}\")\n"
   ]
  },
  {
   "cell_type": "code",
   "execution_count": null,
   "metadata": {},
   "outputs": [],
   "source": [
    "output_path = \"resultados_recomendaciones.xlsx\"\n",
    "recommendations_df.to_excel(output_path, index=False)\n",
    "print(f\"Resultados guardados en {output_path}\")"
   ]
  }
 ],
 "metadata": {
  "kernelspec": {
   "display_name": ".venv",
   "language": "python",
   "name": "python3"
  },
  "language_info": {
   "codemirror_mode": {
    "name": "ipython",
    "version": 3
   },
   "file_extension": ".py",
   "mimetype": "text/x-python",
   "name": "python",
   "nbconvert_exporter": "python",
   "pygments_lexer": "ipython3",
   "version": "3.11.9"
  }
 },
 "nbformat": 4,
 "nbformat_minor": 2
}
